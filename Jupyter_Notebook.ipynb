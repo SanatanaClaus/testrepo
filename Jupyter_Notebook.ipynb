{
 "cells": [
  {
   "cell_type": "markdown",
   "metadata": {},
   "source": [
    "<center>\n",
    "    <img src=\"https://s3-api.us-geo.objectstorage.softlayer.net/cf-courses-data/CognitiveClass/Logos/organization_logo/organization_logo.png\" width=\"300\" alt=\"cognitiveclass.ai logo\"  />\n",
    "</center>\n"
   ]
  },
  {
   "cell_type": "markdown",
   "metadata": {},
   "source": [
    "#### Add your code below following the instructions given in the course\n"
   ]
  },
  {
   "cell_type": "markdown",
   "metadata": {},
   "source": [
    "<a href=\"https://dataplatform.cloud.ibm.com/gallery\">IBM Cloud Gallery</a>"
   ]
  },
  {
   "cell_type": "markdown",
   "metadata": {},
   "source": [
    "# My Jupyter Notebook on IBM Watson Studio"
   ]
  },
  {
   "cell_type": "markdown",
   "metadata": {},
   "source": [
    "**Ashwin Kumar**\n",
    "\n",
    "Environmental Engineer\n"
   ]
  },
  {
   "cell_type": "markdown",
   "metadata": {},
   "source": [
    "_I am interested in data science because of the large scope of the subject in understanding the enviroment on a realistic scale, i.e. through real time data_"
   ]
  },
  {
   "cell_type": "markdown",
   "metadata": {},
   "source": [
    "### Code to print \"Hello World \" 10 times"
   ]
  },
  {
   "cell_type": "code",
   "execution_count": 1,
   "metadata": {},
   "outputs": [
    {
     "name": "stdout",
     "output_type": "stream",
     "text": [
      "Hello World\n",
      "Hello World\n",
      "Hello World\n",
      "Hello World\n",
      "Hello World\n",
      "Hello World\n",
      "Hello World\n",
      "Hello World\n",
      "Hello World\n",
      "Hello World\n"
     ]
    }
   ],
   "source": [
    "for i in range(10):\n",
    "    print(\"Hello World\")"
   ]
  },
  {
   "cell_type": "markdown",
   "metadata": {},
   "source": [
    "\n",
    "List of things you can put on a list:\n",
    "* Favourite colors\n",
    "* Dull colors \n",
    "* Neutral colors\n",
    "* Colors in the rainbow\n",
    "* Things you cannot put on a list\n",
    "\n",
    "***\n",
    "\n",
    "List of things:\n",
    "1. Things\n",
    "2. Things\n",
    "3. Things\n",
    "4. Things\n",
    "\n",
    "___\n",
    "\n",
    "```python\n",
    "\n",
    "import pandas as pd\n",
    "print(\" This is code//syntax highlighting\")\n",
    "```\n",
    "***\n",
    "\n",
    "\n",
    "|Characteristics|Dogs| Cats|\n",
    "|-----|------|-----|\n",
    "|Evil|No|Yes|\n",
    "|Entitled|No|Yes|\n",
    "|Elegant|No|Yes|\n",
    "|Better than Dogs|No|Yes|\n",
    "\n",
    "\n",
    "\n",
    "\n",
    " \n",
    "\n",
    "> This table has now been hijacked by the Meowfia . Any attempt of comparisions with dogs will be intercepted and terminated swiflty. \n",
    ">[Our official website. Do not ignore our warnings](https://youtu.be/dQw4w9WgXcQ \"Meowfia.org\")\n",
    "\n"
   ]
  }
 ],
 "metadata": {
  "kernelspec": {
   "display_name": "Python 3.9.7 ('base')",
   "language": "python",
   "name": "python3"
  },
  "language_info": {
   "codemirror_mode": {
    "name": "ipython",
    "version": 3
   },
   "file_extension": ".py",
   "mimetype": "text/x-python",
   "name": "python",
   "nbconvert_exporter": "python",
   "pygments_lexer": "ipython3",
   "version": "3.9.7"
  },
  "vscode": {
   "interpreter": {
    "hash": "20a9e06a1eee47c4abbed4ec8225ad91d78d9800d202b71b6b0a6e47016c6abd"
   }
  }
 },
 "nbformat": 4,
 "nbformat_minor": 4
}
